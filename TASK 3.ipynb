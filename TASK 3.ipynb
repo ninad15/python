{
 "cells": [
  {
   "cell_type": "code",
   "execution_count": 1,
   "metadata": {},
   "outputs": [
    {
     "name": "stdout",
     "output_type": "stream",
     "text": [
      "Welcome to our Restro-Bar!\n",
      "What would you like to have? Type 'done' to finish ordering.\n",
      "\n",
      "Order Summary:\n",
      "cold_drink: 4 x 80 = 320\n",
      "\n",
      "The total bill amount is: $320\n",
      "\n",
      "|__________________________________________________________________________________________|\n",
      "|************************************* HOTEL RECEIPT **************************************|\n",
      "|__________________________________________________________________________________________|\n",
      "|  SR No.             ORDER name                 QUANTITY                      PRICE       |\n",
      "|    1                cold_drink                    4                            320       |\n",
      "|__________________________________________________________________________________________|\n",
      "|                                                                 Total        320         |\n",
      "|__________________________________________________________________________________________|\n"
     ]
    }
   ],
   "source": [
    "Available_Menu = {'cold_drink': 80, 'chicken_65': 200, 'kukkad_chicken': 300, 'tower': 1200}\n",
    "\n",
    "\n",
    "calculate_price = lambda price, quantity: price * quantity\n",
    "\n",
    "print(\"Welcome to our Restro-Bar!\")\n",
    "print(\"What would you like to have? Type 'done' to finish ordering.\")\n",
    "\n",
    "Ordered_menu = {}\n",
    "\n",
    "\n",
    "while True:\n",
    "    try:\n",
    "        item = input(\"Please order: \").strip()\n",
    "        if item.lower() == \"done\":\n",
    "            break\n",
    "\n",
    "        if item not in Available_Menu:\n",
    "            raise ValueError(f\"'{item}' is not available in the menu.\")\n",
    "        \n",
    "        Quantity = int(input(f\"Please tell the quantity for {item}: \"))\n",
    "        if Quantity <= 0:\n",
    "            raise ValueError(\"Quantity must be a positive integer.\")\n",
    "        \n",
    "        Ordered_menu[item] = Quantity\n",
    "    except ValueError as e:\n",
    "        print(f\"Error: {e}. Please try again.\")\n",
    "    except Exception as e:\n",
    "        print(f\"An unexpected error occurred: {e}. Please try again.\")\n",
    "\n",
    "\n",
    "Total_price = 0\n",
    "\n",
    "print(\"\\nOrder Summary:\")\n",
    "for item, quantity in Ordered_menu.items():\n",
    "    price = calculate_price(Available_Menu.get(item, 0), quantity)\n",
    "    Total_price += price\n",
    "    print(f\"{item}: {quantity} x {Available_Menu[item]} = {price}\")\n",
    "\n",
    "print(f\"\\nThe total bill amount is: ${Total_price}\\n\")\n",
    "\n",
    "# Front-end Receipt Generation\n",
    "print(f\"|{'_'*90}|\")\n",
    "print(\"|{:*^90}|\".format(\" HOTEL RECEIPT \"))\n",
    "print(f\"|{'_'*90}|\")\n",
    "print(f\"|{'SR No.':^10} {'ORDER name':^30} {'QUANTITY':^20} {'PRICE':>20}       |\")\n",
    "\n",
    "c = 0\n",
    "for item, quantity in Ordered_menu.items():\n",
    "    price = calculate_price(Available_Menu.get(item, 0), quantity)\n",
    "    c += 1\n",
    "    print(f\"|{c:^10} {item:^30} {quantity:^20} {price:>20}       |\")\n",
    "\n",
    "print(f\"|{'_'*90}|\")\n",
    "print(f\"|{'Total':>70}{Total_price:^20}|\")\n",
    "print(f\"|{'_'*90}|\")\n"
   ]
  }
 ],
 "metadata": {
  "kernelspec": {
   "display_name": "Python 3",
   "language": "python",
   "name": "python3"
  },
  "language_info": {
   "codemirror_mode": {
    "name": "ipython",
    "version": 3
   },
   "file_extension": ".py",
   "mimetype": "text/x-python",
   "name": "python",
   "nbconvert_exporter": "python",
   "pygments_lexer": "ipython3",
   "version": "3.13.1"
  }
 },
 "nbformat": 4,
 "nbformat_minor": 2
}
