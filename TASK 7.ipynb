{
 "cells": [
  {
   "cell_type": "code",
   "execution_count": 3,
   "metadata": {},
   "outputs": [
    {
     "name": "stdout",
     "output_type": "stream",
     "text": [
      "D:\\documents\\adhar pdf.pdf\n",
      "D:\\documents\\adhar pdf.pdf 2679.681 kb\n",
      "large file\n",
      "D:\\documents\\BGV.pdf\n",
      "D:\\documents\\BGV.pdf 1439.321 kb\n",
      "large file\n",
      "D:\\documents\\consolidated marks.pdf\n",
      "D:\\documents\\consolidated marks.pdf 1580.186 kb\n",
      "large file\n",
      "D:\\documents\\degree certificate (1).pdf\n",
      "D:\\documents\\degree certificate (1).pdf 519.25 kb\n",
      "large file\n",
      "D:\\documents\\NDA (Biz-Metric) (1).pdf\n",
      "D:\\documents\\NDA (Biz-Metric) (1).pdf 372.455 kb\n",
      "medium file\n",
      "D:\\documents\\Ninad Soman Docs.zip\n",
      "D:\\documents\\Ninad Soman Docs.zip 6856.308 kb\n",
      "large file\n",
      "D:\\documents\\pan card.pdf\n",
      "D:\\documents\\pan card.pdf 96.584 kb\n",
      "large file\n",
      "D:\\documents\\photo (1).pdf\n",
      "D:\\documents\\photo (1).pdf 17.736 kb\n",
      "small file\n",
      "D:\\documents\\Physics 01 _ Class Notes.pdf\n",
      "D:\\documents\\Physics 01 _ Class Notes.pdf 3066.287 kb\n",
      "large file\n",
      "D:\\documents\\SERVICE AGREEMENT.pdf\n",
      "D:\\documents\\SERVICE AGREEMENT.pdf 397.988 kb\n",
      "medium file\n"
     ]
    }
   ],
   "source": [
    "import os\n",
    "import shutil\n",
    "\n",
    "for i in os.listdir(\"D:\\\\documents\"):\n",
    "   \n",
    "    filename=\"D:\\\\documents\\\\\"+i\n",
    "    print(filename)\n",
    "    sz=os.stat(filename).st_size/1000\n",
    "    print(filename,sz,\"kb\")\n",
    "\n",
    "    if sz <= 50:\n",
    "        shutil.copy(filename,\"D:\\\\ninad\\\\small\")\n",
    "        print(\"small file\")\n",
    "    elif 200 < sz <=500:\n",
    "        shutil.copy(filename,\"D:\\\\ninad\\\\medium\")    \n",
    "        print(\"medium file\")\n",
    "    else:\n",
    "        shutil.copy(filename,\"D:\\\\ninad\\\\large\")\n",
    "        print(\"large file\")    "
   ]
  }
 ],
 "metadata": {
  "kernelspec": {
   "display_name": "Python 3",
   "language": "python",
   "name": "python3"
  },
  "language_info": {
   "codemirror_mode": {
    "name": "ipython",
    "version": 3
   },
   "file_extension": ".py",
   "mimetype": "text/x-python",
   "name": "python",
   "nbconvert_exporter": "python",
   "pygments_lexer": "ipython3",
   "version": "3.13.1"
  }
 },
 "nbformat": 4,
 "nbformat_minor": 2
}
