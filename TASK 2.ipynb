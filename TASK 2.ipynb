{
 "cells": [
  {
   "cell_type": "code",
   "execution_count": 1,
   "metadata": {},
   "outputs": [],
   "source": [
    "import pandas as pd"
   ]
  },
  {
   "cell_type": "code",
   "execution_count": 13,
   "metadata": {},
   "outputs": [],
   "source": [
    "from datetime import datetime\n",
    "start_date=\"2025-02-09\"\n",
    "end_date=\"2025-02-15\""
   ]
  },
  {
   "cell_type": "code",
   "execution_count": 14,
   "metadata": {},
   "outputs": [
    {
     "name": "stdout",
     "output_type": "stream",
     "text": [
      "2025-02-09 00:00:00\n"
     ]
    }
   ],
   "source": [
    "start_date=datetime.strptime(start_date,\"%Y-%m-%d\")\n",
    "print(start_date)"
   ]
  },
  {
   "cell_type": "code",
   "execution_count": 15,
   "metadata": {},
   "outputs": [
    {
     "name": "stdout",
     "output_type": "stream",
     "text": [
      "2025-02-15 00:00:00\n"
     ]
    }
   ],
   "source": [
    "end_date=datetime.strptime(end_date,\"%Y-%m-%d\")\n",
    "print(end_date)"
   ]
  },
  {
   "cell_type": "code",
   "execution_count": 16,
   "metadata": {},
   "outputs": [],
   "source": [
    "from datetime import date\n",
    "from datetime import timedelta"
   ]
  },
  {
   "cell_type": "code",
   "execution_count": 17,
   "metadata": {},
   "outputs": [
    {
     "name": "stdout",
     "output_type": "stream",
     "text": [
      "{'2025-02-09': 'No task', '2025-02-10': 'sql', '2025-02-11': 'aws', '2025-02-12': 'python', '2025-02-13': 'c++', '2025-02-14': 'resr day', '2025-02-15': 'No task'}\n"
     ]
    }
   ],
   "source": [
    "task={}\n",
    "currentdate=start_date\n",
    "while currentdate<=end_date:\n",
    "    if currentdate.isoweekday()<=5:\n",
    "        task[str(currentdate.date())]=input(f\"Task for {currentdate.date()}:\")\n",
    "    else:\n",
    "        task[str(currentdate.date())]=\"No task\"\n",
    "    currentdate+=timedelta(days=1)\n",
    "print(task)"
   ]
  }
 ],
 "metadata": {
  "kernelspec": {
   "display_name": "Python 3",
   "language": "python",
   "name": "python3"
  },
  "language_info": {
   "codemirror_mode": {
    "name": "ipython",
    "version": 3
   },
   "file_extension": ".py",
   "mimetype": "text/x-python",
   "name": "python",
   "nbconvert_exporter": "python",
   "pygments_lexer": "ipython3",
   "version": "3.13.1"
  }
 },
 "nbformat": 4,
 "nbformat_minor": 2
}
