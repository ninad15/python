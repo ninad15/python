{
 "cells": [
  {
   "cell_type": "markdown",
   "metadata": {},
   "source": [
    "**Que. 3)  Based on database ask user to enter the values and store the same in the variable with validation**"
   ]
  },
  {
   "cell_type": "code",
   "execution_count": 1,
   "metadata": {},
   "outputs": [
    {
     "data": {
      "text/plain": [
       "<re.Match object; span=(0, 25), match='Kalashri Bhanudas Borhade'>"
      ]
     },
     "execution_count": 1,
     "metadata": {},
     "output_type": "execute_result"
    }
   ],
   "source": [
    "# name = input(\"Enter Name\")\n",
    "# isalpha\n",
    "# first name\n",
    "# Last name\n",
    "# Middle name\n",
    "\n",
    "\n",
    "import re\n",
    "pattern = \"^[A-z]*.[A-z]*.[A-z]*$\"\n",
    "from_string = input(\"enter the string\")\n",
    "re.match(pattern, from_string)"
   ]
  },
  {
   "cell_type": "code",
   "execution_count": 2,
   "metadata": {},
   "outputs": [
    {
     "name": "stdout",
     "output_type": "stream",
     "text": [
      "Kalashri Bhanudas Borhade\n",
      "Valid name format!\n"
     ]
    }
   ],
   "source": [
    "import re\n",
    "\n",
    "# Lambda function to match the pattern\n",
    "validate_name = lambda name: re.match(\"^[A-z]*.[A-z]*.[A-z]*$\", name)\n",
    "\n",
    "# Take input \n",
    "name = input(\"Enter Name (First.Middle.Last): \")\n",
    "print(name) \n",
    "\n",
    "# Check if it matches the pattern\n",
    "if validate_name(name):\n",
    "    print(\"Valid name format!\")\n",
    "else:\n",
    "    print(\"Invalid name format!\")"
   ]
  },
  {
   "cell_type": "code",
   "execution_count": null,
   "metadata": {},
   "outputs": [],
   "source": []
  },
  {
   "cell_type": "code",
   "execution_count": 3,
   "metadata": {},
   "outputs": [
    {
     "data": {
      "text/plain": [
       "<re.Match object; span=(0, 29), match='kalashriborhade2112@gmail.com'>"
      ]
     },
     "execution_count": 3,
     "metadata": {},
     "output_type": "execute_result"
    }
   ],
   "source": [
    "# # email_id = input(\"Enter mail_id\")\n",
    "# @__.com\n",
    "# isalphanumeric\n",
    "# may contain number,alphabets\n",
    "# should have .com or .in extensions\n",
    "\n",
    "\n",
    "pattern = \"^[A-z,0-9]*.[a-z]*.com$\"\n",
    "from_string = input(\"enter the string\")\n",
    "re.match(pattern, from_string)"
   ]
  },
  {
   "cell_type": "code",
   "execution_count": 4,
   "metadata": {},
   "outputs": [
    {
     "name": "stdout",
     "output_type": "stream",
     "text": [
      "kalashriborhade2112@gmail.com\n",
      "Valid Email ID\n"
     ]
    }
   ],
   "source": [
    "mail = input(\"Enter Email ID: \")\n",
    "print(mail)\n",
    "if re.match(\"^[A-z,0-9]*.[a-z]*.com$\",mail):\n",
    "    print(\"Valid Email ID\")\n",
    "else:\n",
    "    print(\"Invalid Email ID\")"
   ]
  },
  {
   "cell_type": "code",
   "execution_count": null,
   "metadata": {},
   "outputs": [],
   "source": []
  },
  {
   "cell_type": "code",
   "execution_count": 5,
   "metadata": {},
   "outputs": [
    {
     "name": "stdout",
     "output_type": "stream",
     "text": [
      "Address contains valid\n",
      "Flat no 5 Mayur collony Kothrud\n"
     ]
    }
   ],
   "source": [
    "# address\n",
    "# should not contain any special characters\n",
    "# format= flat no, appartment name,street name, landmark,city, district,state, country\n",
    "\n",
    "\n",
    "special_chars = ['@', '#', '$', '%', '^', '&', '*', '(', ')', '!', '.', ';', ':', '/', '\\\\']\n",
    "address = input(\"Enter your address: \")\n",
    "\n",
    "if any(char in special_chars for char in address):\n",
    "    print(\"Address contains invalid characters.\")\n",
    "else:\n",
    "    print(\"Address contains valid\") \n",
    "    print(address)"
   ]
  },
  {
   "cell_type": "code",
   "execution_count": null,
   "metadata": {},
   "outputs": [],
   "source": []
  },
  {
   "cell_type": "code",
   "execution_count": 6,
   "metadata": {},
   "outputs": [
    {
     "name": "stdout",
     "output_type": "stream",
     "text": [
      "valid mobile number\n",
      "8421910499\n"
     ]
    }
   ],
   "source": [
    "# mobile no\n",
    "# integer only\n",
    "# 10 digits only\n",
    "# should not start from zero\n",
    "\n",
    "\n",
    "mob_no = input(\"Enter the mobile number\")\n",
    "\n",
    "if mob_no.isdigit() and len(mob_no) == 10 and mob_no[0] != \"0\" :\n",
    "    print (\"valid mobile number\")\n",
    "    print (mob_no)\n",
    "else :\n",
    "    print (\"invalid mobile number\")"
   ]
  },
  {
   "cell_type": "code",
   "execution_count": 7,
   "metadata": {},
   "outputs": [
    {
     "name": "stdout",
     "output_type": "stream",
     "text": [
      "mobile number is : 8421910499\n",
      "Valid mobile number\n"
     ]
    }
   ],
   "source": [
    "mob_no = input(\"Enter the mobile number: \")\n",
    "print(\"mobile number is :\",mob_no)\n",
    "\n",
    "# Lambda function to validate the mobile number\n",
    "\n",
    "validate_mobile = lambda mob_no: \"Valid mobile number\" if mob_no.isdigit() and len(mob_no) == 10 and mob_no[0] != \"0\" else \"Invalid mobile number\"\n",
    "\n",
    "print(validate_mobile(mob_no))"
   ]
  }
 ],
 "metadata": {
  "kernelspec": {
   "display_name": "Python 3",
   "language": "python",
   "name": "python3"
  },
  "language_info": {
   "codemirror_mode": {
    "name": "ipython",
    "version": 3
   },
   "file_extension": ".py",
   "mimetype": "text/x-python",
   "name": "python",
   "nbconvert_exporter": "python",
   "pygments_lexer": "ipython3",
   "version": "3.12.3"
  }
 },
 "nbformat": 4,
 "nbformat_minor": 2
}
